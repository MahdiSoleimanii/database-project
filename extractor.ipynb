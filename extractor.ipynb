{
 "cells": [
  {
   "cell_type": "code",
   "execution_count": null,
   "metadata": {},
   "outputs": [],
   "source": [
    "import pandas as pd\n",
    "from constants import *"
   ]
  },
  {
   "cell_type": "code",
   "execution_count": null,
   "metadata": {},
   "outputs": [],
   "source": [
    "data_df = pd.read_csv(\"data.csv\")\n",
    "data_df.head()"
   ]
  },
  {
   "cell_type": "code",
   "execution_count": null,
   "metadata": {},
   "outputs": [],
   "source": [
    "books_df = data_df[[\"isbn\", \"book_title\", \"num_pages\", \"price\", \"edition\", \"print_series\", \"category_id\"]].copy()\n",
    "books_df.rename(columns={\"book_title\": \"title\",\n",
    "                         \"num_pages\": \"pages\",\n",
    "                         \"edition\": \"edition_num\"},\n",
    "                inplace=True)\n",
    "books_df.to_csv(\"data/books.csv\", index=False)\n",
    "print(books_df.shape)\n",
    "books_df.head()"
   ]
  },
  {
   "cell_type": "code",
   "execution_count": null,
   "metadata": {},
   "outputs": [],
   "source": [
    "publishers_df = data_df[[\"publisher_id\", \"publisher_name\", \"city\", \"manager_name\"]].copy().drop_duplicates()\n",
    "total_printed_books = data_df.groupby(\"publisher_id\")[\"num_printed\"].sum().reset_index()\n",
    "total_book_revenue = data_df.groupby(\"publisher_id\")[\"publisher_revenue\"].sum().reset_index()\n",
    "publishers_df = pd.merge(publishers_df, total_printed_books, on=\"publisher_id\", how=\"left\", suffixes=(\"\", \"_total_printed\"))\n",
    "publishers_df = pd.merge(publishers_df, total_book_revenue, on=\"publisher_id\", how=\"left\", suffixes=(\"\", \"_total_revenue\"))\n",
    "publishers_df.rename(columns={\"publisher_id\": \"id\",\n",
    "                              \"num_printed\": \"total_printed\",\n",
    "                              \"publisher_revenue\": \"total_revenue\"},\n",
    "                     inplace=True)\n",
    "publishers_df.to_csv(\"data/publishers.csv\", index=False)\n",
    "print(publishers_df.shape)\n",
    "publishers_df.head()"
   ]
  },
  {
   "cell_type": "code",
   "execution_count": null,
   "metadata": {},
   "outputs": [],
   "source": [
    "authors_df = data_df[[\"author_id\", \"author_name\", \"author_age\"]].copy().drop_duplicates()\n",
    "total_book_revenue = data_df.groupby(\"author_id\")[\"author_revenue\"].sum().reset_index()\n",
    "authors_df = pd.merge(authors_df, total_book_revenue, on=\"author_id\", how=\"left\", suffixes=(\"\", \"_total_revenue\"))\n",
    "authors_df.rename(columns={\"author_id\": \"id\",\n",
    "                           \"author_age\": \"age\", \n",
    "                           \"author_revenue\": \"total_revenue\"},\n",
    "                  inplace=True)\n",
    "authors_df.to_csv(\"data/authors.csv\", index=False)\n",
    "print(authors_df.shape)\n",
    "authors_df.head()"
   ]
  },
  {
   "cell_type": "code",
   "execution_count": null,
   "metadata": {},
   "outputs": [],
   "source": [
    "author_book_df = data_df[[\"isbn\", \"author_id\", \"author_revenue\"]].copy()\n",
    "author_book_df.to_csv(\"data/authBook.csv\", index=False)\n",
    "print(author_book_df.shape)\n",
    "author_book_df.head()"
   ]
  },
  {
   "cell_type": "code",
   "execution_count": null,
   "metadata": {},
   "outputs": [],
   "source": [
    "pub_book_df = data_df[[\"isbn\", \"publisher_id\", \"publish_date\", \"publisher_revenue\"]].copy()\n",
    "pub_book_df.to_csv(\"data/pubBook.csv\", index=False)\n",
    "print(data_df[\"publish_date\"].dtype)\n",
    "print(pub_book_df.shape)\n",
    "pub_book_df.head()"
   ]
  },
  {
   "cell_type": "code",
   "execution_count": null,
   "metadata": {},
   "outputs": [],
   "source": [
    "category_df = data_df[[\"category_id\", \"category_name\"]].drop_duplicates().sort_values(by=\"category_id\").reset_index(drop=True)\n",
    "category_df.rename(columns={\"category_id\": \"id\"}, \n",
    "                   inplace=True)\n",
    "category_df.to_csv(\"data/category.csv\", index=False)\n",
    "print(category_df.shape)\n",
    "category_df.head()"
   ]
  }
 ],
 "metadata": {
  "kernelspec": {
   "display_name": "Python 3",
   "language": "python",
   "name": "python3"
  },
  "language_info": {
   "codemirror_mode": {
    "name": "ipython",
    "version": 3
   },
   "file_extension": ".py",
   "mimetype": "text/x-python",
   "name": "python",
   "nbconvert_exporter": "python",
   "pygments_lexer": "ipython3",
   "version": "3.11.7"
  }
 },
 "nbformat": 4,
 "nbformat_minor": 2
}
