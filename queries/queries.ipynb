{
 "cells": [
  {
   "cell_type": "code",
   "execution_count": 1,
   "metadata": {},
   "outputs": [],
   "source": [
    "import os\n",
    "import sqlite3"
   ]
  },
  {
   "cell_type": "code",
   "execution_count": 2,
   "metadata": {},
   "outputs": [],
   "source": [
    "if not os.path.exists(\"../query_results\"):\n",
    "    os.mkdir(\"../query_results\")"
   ]
  },
  {
   "cell_type": "code",
   "execution_count": 3,
   "metadata": {},
   "outputs": [],
   "source": [
    "conn = sqlite3.connect(\"../database/book_info.db\")\n",
    "cursor = conn.cursor()"
   ]
  },
  {
   "cell_type": "markdown",
   "metadata": {},
   "source": [
    "1. `name` and `age` of all the `Authors` who authored a book"
   ]
  },
  {
   "cell_type": "code",
   "execution_count": 102,
   "metadata": {},
   "outputs": [],
   "source": [
    "with open(\"../sql_files/1. all_authors.sql\") as f:\n",
    "    rows = cursor.execute(f.read())\n",
    "with open(\"../query_results/1. all_authors.txt\", \"w\") as f:\n",
    "    f.write(\"\")\n",
    "with open(\"../query_results/1. all_authors.txt\", \"a\") as f:\n",
    "    for row in rows:\n",
    "        f.write(f\"{row}\\n\")"
   ]
  },
  {
   "cell_type": "markdown",
   "metadata": {},
   "source": [
    "2. `revenue` of each `Author` for every book they've authored"
   ]
  },
  {
   "cell_type": "code",
   "execution_count": 103,
   "metadata": {},
   "outputs": [],
   "source": [
    "with open(\"../sql_files/2. revenue_per_book.sql\") as f:\n",
    "    rows = cursor.execute(f.read())\n",
    "with open(\"../query_results/2. revenue_per_book.txt\", \"w\") as f:\n",
    "    f.write(\"\")\n",
    "with open(\"../query_results/2. revenue_per_book.txt\", \"a\") as f:\n",
    "    for row in rows:\n",
    "        f.write(f\"{row}\\n\")"
   ]
  },
  {
   "cell_type": "markdown",
   "metadata": {},
   "source": [
    "3. Top 5 `Books` with most number of `pages` for each `Publisher`"
   ]
  },
  {
   "cell_type": "code",
   "execution_count": null,
   "metadata": {},
   "outputs": [],
   "source": [
    "with open(\"../sql_files/3. top_five_most_pages.sql\") as f:\n",
    "    rows = cursor.execute(f.read())\n",
    "with open(\"../query_results/3. top_five_most_pages.txt\", \"w\") as f:\n",
    "    f.write(\"\")\n",
    "with open(\"../query_results/3. top_five_most_pages.txt\", \"w\") as f:\n",
    "    for row in rows:\n",
    "        f.write(f\"{row}\\n\")"
   ]
  },
  {
   "cell_type": "markdown",
   "metadata": {},
   "source": [
    "4. Average `revenue` for each `Publisher` in a specific month"
   ]
  },
  {
   "cell_type": "code",
   "execution_count": 107,
   "metadata": {},
   "outputs": [],
   "source": [
    "with open(\"../sql_files/4. average_monthly_revenue.sql\") as f:\n",
    "    rows = cursor.execute(f.read())\n",
    "with open(\"../query_results/4. average_monthly_revenue.txt\", \"w\") as f:\n",
    "    f.write(\"\")\n",
    "with open(\"../query_results/4. average_monthly_revenue.txt\", \"w\") as f:\n",
    "    for row in rows:\n",
    "        f.write(f\"{row}\\n\")"
   ]
  },
  {
   "cell_type": "markdown",
   "metadata": {},
   "source": [
    "5. Number of books published in a specific period for each `Publisher`"
   ]
  },
  {
   "cell_type": "code",
   "execution_count": 11,
   "metadata": {},
   "outputs": [],
   "source": [
    "with open(\"../sql_files/5. books_published_between_dates.sql\") as f:\n",
    "    rows = cursor.execute(f.read())\n",
    "with open(\"../query_results/5. books_published_between_dates.txt\", \"w\") as f:\n",
    "    f.write(\"\")\n",
    "with open(\"../query_results/5. books_published_between_dates.txt\", \"w\") as f:\n",
    "    for row in rows:\n",
    "        f.write(f\"{row}\\n\")"
   ]
  },
  {
   "cell_type": "markdown",
   "metadata": {},
   "source": [
    "6. Average time period of publishing a book for each `Publisher`"
   ]
  },
  {
   "cell_type": "code",
   "execution_count": 14,
   "metadata": {},
   "outputs": [],
   "source": [
    "with open(\"../sql_files/6. avg_publish_period.sql\") as f:\n",
    "    rows = cursor.execute(f.read())\n",
    "with open(\"../query_results/6. avg_publish_period.txt\", \"w\") as f:\n",
    "    f.write(\"\")\n",
    "with open(\"../query_results/6. avg_publish_period.txt\", \"w\") as f:\n",
    "    for row in rows:\n",
    "        f.write(f\"{row}\\n\")"
   ]
  },
  {
   "cell_type": "code",
   "execution_count": null,
   "metadata": {},
   "outputs": [],
   "source": [
    "cursor.close()\n",
    "conn.close()"
   ]
  }
 ],
 "metadata": {
  "kernelspec": {
   "display_name": "Python 3",
   "language": "python",
   "name": "python3"
  },
  "language_info": {
   "codemirror_mode": {
    "name": "ipython",
    "version": 3
   },
   "file_extension": ".py",
   "mimetype": "text/x-python",
   "name": "python",
   "nbconvert_exporter": "python",
   "pygments_lexer": "ipython3",
   "version": "3.12.0"
  }
 },
 "nbformat": 4,
 "nbformat_minor": 2
}
