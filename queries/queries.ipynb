{
 "cells": [
  {
   "cell_type": "code",
   "execution_count": 286,
   "metadata": {},
   "outputs": [],
   "source": [
    "import os\n",
    "import sqlite3"
   ]
  },
  {
   "cell_type": "code",
   "execution_count": null,
   "metadata": {},
   "outputs": [],
   "source": [
    "if not os.path.exists(\"../query_results\"):\n",
    "    os.mkdir(\"../query_results\")"
   ]
  },
  {
   "cell_type": "code",
   "execution_count": 287,
   "metadata": {},
   "outputs": [],
   "source": [
    "conn = sqlite3.connect(\"../database/book_info.db\")\n",
    "cursor = conn.cursor()"
   ]
  },
  {
   "cell_type": "markdown",
   "metadata": {},
   "source": [
    "`name` and `age` of all the `Authors` who authored a book"
   ]
  },
  {
   "cell_type": "code",
   "execution_count": 288,
   "metadata": {},
   "outputs": [],
   "source": [
    "with open(\"../sql_files/all_authors.sql\") as f:\n",
    "    rows = cursor.execute(f.read())\n",
    "with open(\"../query_results/all_authors.txt\", \"w\") as f:\n",
    "    f.write(\"\")\n",
    "with open(\"../query_results/all_authors.txt\", \"a\") as f:\n",
    "    for row in rows:\n",
    "        f.write(f\"{row}\\n\")"
   ]
  },
  {
   "cell_type": "markdown",
   "metadata": {},
   "source": [
    "`revenue` of each `Author` for every book they've authored"
   ]
  },
  {
   "cell_type": "code",
   "execution_count": null,
   "metadata": {},
   "outputs": [],
   "source": [
    "with open(\"../sql_files/revenue_per_book.sql\") as f:\n",
    "    rows = cursor.execute(f.read())\n",
    "with open(\"../query_results/revenue_per_book.txt\", \"w\") as f:\n",
    "    f.write(\"\")\n",
    "with open(\"../query_results/revenue_per_book.txt\", \"a\") as f:\n",
    "    for row in rows:\n",
    "        f.write(f\"{row}\\n\")"
   ]
  },
  {
   "cell_type": "code",
   "execution_count": 289,
   "metadata": {},
   "outputs": [],
   "source": [
    "cursor.close()\n",
    "conn.close()"
   ]
  }
 ],
 "metadata": {
  "kernelspec": {
   "display_name": "Python 3",
   "language": "python",
   "name": "python3"
  },
  "language_info": {
   "codemirror_mode": {
    "name": "ipython",
    "version": 3
   },
   "file_extension": ".py",
   "mimetype": "text/x-python",
   "name": "python",
   "nbconvert_exporter": "python",
   "pygments_lexer": "ipython3",
   "version": "3.11.7"
  }
 },
 "nbformat": 4,
 "nbformat_minor": 2
}
