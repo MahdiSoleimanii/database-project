{
 "cells": [
  {
   "cell_type": "code",
   "execution_count": 1,
   "metadata": {},
   "outputs": [],
   "source": [
    "import os\n",
    "import sqlite3"
   ]
  },
  {
   "cell_type": "code",
   "execution_count": 2,
   "metadata": {},
   "outputs": [],
   "source": [
    "if not os.path.exists(\"../adv_query_results\"):\n",
    "    os.mkdir(\"../adv_query_results\")"
   ]
  },
  {
   "cell_type": "code",
   "execution_count": 3,
   "metadata": {},
   "outputs": [],
   "source": [
    "conn = sqlite3.connect(\"../database/book_info.db\")\n",
    "cursor = conn.cursor()"
   ]
  },
  {
   "cell_type": "markdown",
   "metadata": {},
   "source": [
    "1. Average number of `Books` published per `day of week`"
   ]
  },
  {
   "cell_type": "code",
   "execution_count": 20,
   "metadata": {},
   "outputs": [],
   "source": [
    "with open(\"../adv_sql_files/1. avg_per_weekday.sql\") as f:\n",
    "    rows = cursor.execute(f.read())\n",
    "with open(\"../adv_query_results/1. avg_per_weekday.txt\", \"w\") as f:\n",
    "    f.write(\"\")\n",
    "with open(\"../adv_query_results/1. avg_per_weekday.txt\", \"a\") as f:\n",
    "    for row in rows:\n",
    "        f.write(f\"{row}\\n\")"
   ]
  },
  {
   "cell_type": "markdown",
   "metadata": {},
   "source": [
    "2. Top 3 `City` with most number of `Books` published"
   ]
  },
  {
   "cell_type": "code",
   "execution_count": 31,
   "metadata": {},
   "outputs": [],
   "source": [
    "with open(\"../adv_sql_files/2. top_three_publisher_city.sql\") as f:\n",
    "    rows = cursor.execute(f.read())\n",
    "with open(\"../adv_query_results/2. top_three_publisher_city.txt\", \"w\") as f:\n",
    "    f.write(\"\")\n",
    "with open(\"../adv_query_results/2. top_three_publisher_city.txt\", \"a\") as f:\n",
    "    for row in rows:\n",
    "        f.write(f\"{row}\\n\")"
   ]
  },
  {
   "cell_type": "markdown",
   "metadata": {},
   "source": [
    "3. Average `author_revenue` for each `Category`"
   ]
  },
  {
   "cell_type": "code",
   "execution_count": 44,
   "metadata": {},
   "outputs": [],
   "source": [
    "with open(\"../adv_sql_files/3. avg_cat_author_revenue.sql\") as f:\n",
    "    rows = cursor.execute(f.read())\n",
    "with open(\"../adv_query_results/3. avg_cat_author_revenue.txt\", \"w\") as f:\n",
    "    f.write(\"\")\n",
    "with open(\"../adv_query_results/3. avg_cat_author_revenue.txt\", \"a\") as f:\n",
    "    for row in rows:\n",
    "        f.write(f\"{row}\\n\")"
   ]
  },
  {
   "cell_type": "code",
   "execution_count": null,
   "metadata": {},
   "outputs": [],
   "source": [
    "cursor.close()\n",
    "conn.close()"
   ]
  }
 ],
 "metadata": {
  "kernelspec": {
   "display_name": "Python 3",
   "language": "python",
   "name": "python3"
  },
  "language_info": {
   "codemirror_mode": {
    "name": "ipython",
    "version": 3
   },
   "file_extension": ".py",
   "mimetype": "text/x-python",
   "name": "python",
   "nbconvert_exporter": "python",
   "pygments_lexer": "ipython3",
   "version": "3.12.0"
  }
 },
 "nbformat": 4,
 "nbformat_minor": 2
}
